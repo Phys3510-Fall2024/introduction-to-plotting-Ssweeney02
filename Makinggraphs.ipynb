{
 "cells": [
  {
   "cell_type": "code",
   "execution_count": 1,
   "id": "43ccddb0-3b3d-4d50-924a-d07af0fe68d1",
   "metadata": {},
   "outputs": [],
   "source": [
    "#import needed packages/modelules/libraries\n",
    "import numpy as np\n",
    "import matplotlib.pyplot as plt\n",
    "import ipywidgets as widgets"
   ]
  },
  {
   "cell_type": "code",
   "execution_count": 2,
   "id": "b4ad16f2-6d60-40e4-8620-ebe4e392848a",
   "metadata": {},
   "outputs": [
    {
     "data": {
      "text/plain": [
       "2.0"
      ]
     },
     "execution_count": 2,
     "metadata": {},
     "output_type": "execute_result"
    }
   ],
   "source": [
    "# define the potential energy function\n",
    "def potential_energy(Q1, Q2, K1=1.0, K2=1.0, C=0):\n",
    "    return K1*Q1**2 + K2*Q2**2 + C*Q1*Q2 #equation from read me \n",
    "\n",
    "#test potential_enrgy\n",
    "potential_energy(1,1)"
   ]
  },
  {
   "cell_type": "code",
   "execution_count": 6,
   "id": "bdf5c120-ccd0-48e2-874b-365b965e0d6f",
   "metadata": {},
   "outputs": [
    {
     "data": {
      "text/plain": [
       "array([[2., 1., 2.],\n",
       "       [1., 0., 1.],\n",
       "       [2., 1., 2.]])"
      ]
     },
     "execution_count": 6,
     "metadata": {},
     "output_type": "execute_result"
    }
   ],
   "source": [
    "#define meshes in Q1 and Q2\n",
    "q1 = np.linspace(-1,1,3)\n",
    "q2 = q1\n",
    "Q1, Q2 = np.meshgrid(q1, q2)\n",
    "\n",
    "potential_energy(Q1, Q2)"
   ]
  },
  {
   "cell_type": "code",
   "execution_count": 11,
   "id": "204a3110-53dd-4670-b7fd-1048211f15a9",
   "metadata": {},
   "outputs": [
    {
     "data": {
      "image/png": "[encoded data removed]",
      "text/plain": [
       "<Figure size 300x200 with 2 Axes>"
      ]
     },
     "metadata": {},
     "output_type": "display_data"
    }
   ],
   "source": [
    "# plot contours with matplotlib contour\n",
    "plt.figure(figsize=(3,2))\n",
    "plt.contourf(Q1, Q2, potential_energy(Q1, Q2, K1=1.0, K2=1.0, C=0.5), levels=15)  # Add the missing closing parenthesis here\n",
    "plt.colorbar()\n",
    "plt.xlim(-1, 1)\n",
    "plt.ylim(-1, 1)\n",
    "plt.xlabel('$Q_1$')\n",
    "plt.ylabel('$Q_2$')\n",
    "\n",
    "plt.show()"
   ]
  },
  {
   "cell_type": "code",
   "execution_count": 25,
   "id": "fb5e0532-3d09-4fea-ba1c-c8fcd1dfe566",
   "metadata": {},
   "outputs": [],
   "source": [
    "#define plotting function\n",
    "def plot_potential(K1=1.0, K2=1.0, C=0.0, n_contours=10, n_points=50): #define mesh and meshgrid for plotting\n",
    "    q1 = np.linspace(-1,1,n_points)\n",
    "    q2 = q1\n",
    "    Q1, Q2 = np.meshgrid(q1, q2)\n",
    "    Z = potential_energy(Q1, Q2, K1, K2, C)\n",
    "\n",
    "#construct contour plot\n",
    "    plt.figure(figsize=(3,2)) #sizing the plot\n",
    "    plt.contourf(Q1, Q2, Z, levels=n_contours)  # plotting the potential energy\n",
    "    plt.colorbar(label='potential energy') #plot legend colorbar\n",
    "    plt.xlim(-1, 1) #limiting the axes\n",
    "    plt.ylim(-1, 1)\n",
    "    plt.xlabel('$Q_1$') #labeling the axes\n",
    "    plt.ylabel('$Q_2$')\n",
    "    plt.show()"
   ]
  },
  {
   "cell_type": "code",
   "execution_count": 30,
   "id": "0a67baf4-4ad7-4dd6-afca-381993aad087",
   "metadata": {},
   "outputs": [
    {
     "data": {
      "application/vnd.jupyter.widget-view+json": {
       "model_id": "75dd52806bcc42498bc1ca1c61bcf260",
       "version_major": 2,
       "version_minor": 0
      },
      "text/plain": [
       "interactive(children=(FloatSlider(value=1.0, description='K1', max=2.0, step=0.05), FloatSlider(value=1.0, des…"
      ]
     },
     "metadata": {},
     "output_type": "display_data"
    },
    {
     "data": {
      "text/plain": [
       "<function __main__.plot_potential(K1=1.0, K2=1.0, C=0.0, n_contours=10, n_points=50)>"
      ]
     },
     "execution_count": 30,
     "metadata": {},
     "output_type": "execute_result"
    }
   ],
   "source": [
    "# interactive plot\n",
    "widgets.interact(\n",
    "    plot_potential,\n",
    "    K1=widgets.FloatSlider(value=1.0, min=0.0, max=2.0, step=0.05, description='K1'),\n",
    "    K2=widgets.FloatSlider(value=1.0, min=0.0, max=2.0, step=0.05, description='K2'),\n",
    "    C=widgets.FloatSlider(value=0.0, min=-1.0, max=1.0, step=0.05, description='C'),\n",
    "    n_contours=widgets.IntSlider(value=15, min=1, max=20, step=5, description='#contours'),\n",
    "    n_points=widgets.IntSlider(value=50, min=10, max=200, step=10, description='#points')\n",
    ")"
   ]
  },
  {
   "cell_type": "code",
   "execution_count": null,
   "id": "8abef10a-105d-43e3-b3d1-74864d646adb",
   "metadata": {},
   "outputs": [],
   "source": []
  }
 ],
 "metadata": {
  "kernelspec": {
   "display_name": "Python 3 (ipykernel)",
   "language": "python",
   "name": "python3"
  },
  "language_info": {
   "codemirror_mode": {
    "name": "ipython",
    "version": 3
   },
   "file_extension": ".py",
   "mimetype": "text/x-python",
   "name": "python",
   "nbconvert_exporter": "python",
   "pygments_lexer": "ipython3",
   "version": "3.9.19"
  }
 },
 "nbformat": 4,
 "nbformat_minor": 5
}
